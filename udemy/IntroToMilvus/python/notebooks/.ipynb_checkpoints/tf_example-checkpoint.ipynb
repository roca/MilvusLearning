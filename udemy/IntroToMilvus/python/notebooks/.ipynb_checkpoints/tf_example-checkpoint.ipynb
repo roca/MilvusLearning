{
 "cells": [
  {
   "cell_type": "code",
   "execution_count": 3,
   "id": "39b3fa4b-d401-4281-9d00-9385ada301cb",
   "metadata": {},
   "outputs": [
    {
     "name": "stdout",
     "output_type": "stream",
     "text": [
      "Collecting pymilvus\n",
      "  Obtaining dependency information for pymilvus from https://files.pythonhosted.org/packages/e3/96/3f0981a7247bbbf93ada53706ff0672caf8fab5b10cf1e8dd9b5c3cc6dc8/pymilvus-2.3.1-py3-none-any.whl.metadata\n",
      "  Downloading pymilvus-2.3.1-py3-none-any.whl.metadata (4.3 kB)\n",
      "Requirement already satisfied: tensorflow in /usr/local/lib/python3.11/dist-packages (2.14.0)\n",
      "Requirement already satisfied: tensorflow-hub in /usr/local/lib/python3.11/dist-packages (0.15.0)\n",
      "Requirement already satisfied: numpy in /usr/local/lib/python3.11/dist-packages (1.26.0)\n",
      "Requirement already satisfied: grpcio<=1.58.0,>=1.49.1 in /usr/local/lib/python3.11/dist-packages (from pymilvus) (1.58.0)\n",
      "Requirement already satisfied: protobuf>=3.20.0 in /usr/local/lib/python3.11/dist-packages (from pymilvus) (4.24.3)\n",
      "Collecting environs<=9.5.0 (from pymilvus)\n",
      "  Downloading environs-9.5.0-py2.py3-none-any.whl (12 kB)\n",
      "Collecting ujson>=2.0.0 (from pymilvus)\n",
      "  Obtaining dependency information for ujson>=2.0.0 from https://files.pythonhosted.org/packages/8b/9e/a2abe7d666047bbb9d77c1da287513e64448bddc4e3738ec0dc04961606b/ujson-5.8.0-cp311-cp311-manylinux_2_17_x86_64.manylinux2014_x86_64.whl.metadata\n",
      "  Downloading ujson-5.8.0-cp311-cp311-manylinux_2_17_x86_64.manylinux2014_x86_64.whl.metadata (8.7 kB)\n",
      "Collecting pandas>=1.2.4 (from pymilvus)\n",
      "  Obtaining dependency information for pandas>=1.2.4 from https://files.pythonhosted.org/packages/de/ce/b5d9c7ce1aaf9023b823c81932a50cd5e8f407198a696b0d1c6025a40b03/pandas-2.1.1-cp311-cp311-manylinux_2_17_x86_64.manylinux2014_x86_64.whl.metadata\n",
      "  Downloading pandas-2.1.1-cp311-cp311-manylinux_2_17_x86_64.manylinux2014_x86_64.whl.metadata (18 kB)\n",
      "Requirement already satisfied: requests in /usr/local/lib/python3.11/dist-packages (from pymilvus) (2.31.0)\n",
      "Collecting minio (from pymilvus)\n",
      "  Obtaining dependency information for minio from https://files.pythonhosted.org/packages/a1/dc/a93d0b835ff6932f31a1eb7664539bc5eb4c4464a8a81c30eccab2915476/minio-7.1.17-py3-none-any.whl.metadata\n",
      "  Downloading minio-7.1.17-py3-none-any.whl.metadata (4.2 kB)\n",
      "Requirement already satisfied: absl-py>=1.0.0 in /usr/local/lib/python3.11/dist-packages (from tensorflow) (2.0.0)\n",
      "Requirement already satisfied: astunparse>=1.6.0 in /usr/local/lib/python3.11/dist-packages (from tensorflow) (1.6.3)\n",
      "Requirement already satisfied: flatbuffers>=23.5.26 in /usr/local/lib/python3.11/dist-packages (from tensorflow) (23.5.26)\n",
      "Requirement already satisfied: gast!=0.5.0,!=0.5.1,!=0.5.2,>=0.2.1 in /usr/local/lib/python3.11/dist-packages (from tensorflow) (0.5.4)\n",
      "Requirement already satisfied: google-pasta>=0.1.1 in /usr/local/lib/python3.11/dist-packages (from tensorflow) (0.2.0)\n",
      "Requirement already satisfied: h5py>=2.9.0 in /usr/local/lib/python3.11/dist-packages (from tensorflow) (3.9.0)\n",
      "Requirement already satisfied: libclang>=13.0.0 in /usr/local/lib/python3.11/dist-packages (from tensorflow) (16.0.6)\n",
      "Requirement already satisfied: ml-dtypes==0.2.0 in /usr/local/lib/python3.11/dist-packages (from tensorflow) (0.2.0)\n",
      "Requirement already satisfied: opt-einsum>=2.3.2 in /usr/local/lib/python3.11/dist-packages (from tensorflow) (3.3.0)\n",
      "Requirement already satisfied: packaging in /usr/local/lib/python3.11/dist-packages (from tensorflow) (23.1)\n",
      "Requirement already satisfied: setuptools in /usr/local/lib/python3.11/dist-packages (from tensorflow) (68.2.2)\n",
      "Requirement already satisfied: six>=1.12.0 in /usr/lib/python3/dist-packages (from tensorflow) (1.16.0)\n",
      "Requirement already satisfied: termcolor>=1.1.0 in /usr/local/lib/python3.11/dist-packages (from tensorflow) (2.3.0)\n",
      "Requirement already satisfied: typing-extensions>=3.6.6 in /usr/local/lib/python3.11/dist-packages (from tensorflow) (4.8.0)\n",
      "Requirement already satisfied: wrapt<1.15,>=1.11.0 in /usr/local/lib/python3.11/dist-packages (from tensorflow) (1.14.1)\n",
      "Requirement already satisfied: tensorflow-io-gcs-filesystem>=0.23.1 in /usr/local/lib/python3.11/dist-packages (from tensorflow) (0.34.0)\n",
      "Requirement already satisfied: tensorboard<2.15,>=2.14 in /usr/local/lib/python3.11/dist-packages (from tensorflow) (2.14.0)\n",
      "Requirement already satisfied: tensorflow-estimator<2.15,>=2.14.0 in /usr/local/lib/python3.11/dist-packages (from tensorflow) (2.14.0)\n",
      "Requirement already satisfied: keras<2.15,>=2.14.0 in /usr/local/lib/python3.11/dist-packages (from tensorflow) (2.14.0)\n",
      "Requirement already satisfied: wheel<1.0,>=0.23.0 in /usr/local/lib/python3.11/dist-packages (from astunparse>=1.6.0->tensorflow) (0.41.2)\n",
      "Collecting marshmallow>=3.0.0 (from environs<=9.5.0->pymilvus)\n",
      "  Obtaining dependency information for marshmallow>=3.0.0 from https://files.pythonhosted.org/packages/ed/3c/cebfdcad015240014ff08b883d1c0c427f2ba45ae8c6572851b6ef136cad/marshmallow-3.20.1-py3-none-any.whl.metadata\n",
      "  Downloading marshmallow-3.20.1-py3-none-any.whl.metadata (7.8 kB)\n",
      "Collecting python-dotenv (from environs<=9.5.0->pymilvus)\n",
      "  Downloading python_dotenv-1.0.0-py3-none-any.whl (19 kB)\n",
      "Requirement already satisfied: python-dateutil>=2.8.2 in /usr/local/lib/python3.11/dist-packages (from pandas>=1.2.4->pymilvus) (2.8.2)\n",
      "Collecting pytz>=2020.1 (from pandas>=1.2.4->pymilvus)\n",
      "  Obtaining dependency information for pytz>=2020.1 from https://files.pythonhosted.org/packages/32/4d/aaf7eff5deb402fd9a24a1449a8119f00d74ae9c2efa79f8ef9994261fc2/pytz-2023.3.post1-py2.py3-none-any.whl.metadata\n",
      "  Downloading pytz-2023.3.post1-py2.py3-none-any.whl.metadata (22 kB)\n",
      "Collecting tzdata>=2022.1 (from pandas>=1.2.4->pymilvus)\n",
      "  Downloading tzdata-2023.3-py2.py3-none-any.whl (341 kB)\n",
      "\u001b[2K     \u001b[90m━━━━━━━━━━━━━━━━━━━━━━━━━━━━━━━━━━━━━━━\u001b[0m \u001b[32m341.8/341.8 kB\u001b[0m \u001b[31m2.3 MB/s\u001b[0m eta \u001b[36m0:00:00\u001b[0m00:01\u001b[0m\n",
      "\u001b[?25hRequirement already satisfied: google-auth<3,>=1.6.3 in /usr/local/lib/python3.11/dist-packages (from tensorboard<2.15,>=2.14->tensorflow) (2.23.1)\n",
      "Requirement already satisfied: google-auth-oauthlib<1.1,>=0.5 in /usr/local/lib/python3.11/dist-packages (from tensorboard<2.15,>=2.14->tensorflow) (1.0.0)\n",
      "Requirement already satisfied: markdown>=2.6.8 in /usr/local/lib/python3.11/dist-packages (from tensorboard<2.15,>=2.14->tensorflow) (3.4.4)\n",
      "Requirement already satisfied: tensorboard-data-server<0.8.0,>=0.7.0 in /usr/local/lib/python3.11/dist-packages (from tensorboard<2.15,>=2.14->tensorflow) (0.7.1)\n",
      "Requirement already satisfied: werkzeug>=1.0.1 in /usr/local/lib/python3.11/dist-packages (from tensorboard<2.15,>=2.14->tensorflow) (2.3.7)\n",
      "Requirement already satisfied: charset-normalizer<4,>=2 in /usr/local/lib/python3.11/dist-packages (from requests->pymilvus) (3.2.0)\n",
      "Requirement already satisfied: idna<4,>=2.5 in /usr/local/lib/python3.11/dist-packages (from requests->pymilvus) (3.4)\n",
      "Requirement already satisfied: urllib3<3,>=1.21.1 in /usr/local/lib/python3.11/dist-packages (from requests->pymilvus) (2.0.5)\n",
      "Requirement already satisfied: certifi>=2017.4.17 in /usr/local/lib/python3.11/dist-packages (from requests->pymilvus) (2023.7.22)\n",
      "Requirement already satisfied: cachetools<6.0,>=2.0.0 in /usr/local/lib/python3.11/dist-packages (from google-auth<3,>=1.6.3->tensorboard<2.15,>=2.14->tensorflow) (5.3.1)\n",
      "Requirement already satisfied: pyasn1-modules>=0.2.1 in /usr/local/lib/python3.11/dist-packages (from google-auth<3,>=1.6.3->tensorboard<2.15,>=2.14->tensorflow) (0.3.0)\n",
      "Requirement already satisfied: rsa<5,>=3.1.4 in /usr/local/lib/python3.11/dist-packages (from google-auth<3,>=1.6.3->tensorboard<2.15,>=2.14->tensorflow) (4.9)\n",
      "Requirement already satisfied: requests-oauthlib>=0.7.0 in /usr/local/lib/python3.11/dist-packages (from google-auth-oauthlib<1.1,>=0.5->tensorboard<2.15,>=2.14->tensorflow) (1.3.1)\n",
      "Requirement already satisfied: MarkupSafe>=2.1.1 in /usr/local/lib/python3.11/dist-packages (from werkzeug>=1.0.1->tensorboard<2.15,>=2.14->tensorflow) (2.1.3)\n",
      "Requirement already satisfied: pyasn1<0.6.0,>=0.4.6 in /usr/local/lib/python3.11/dist-packages (from pyasn1-modules>=0.2.1->google-auth<3,>=1.6.3->tensorboard<2.15,>=2.14->tensorflow) (0.5.0)\n",
      "Requirement already satisfied: oauthlib>=3.0.0 in /usr/lib/python3/dist-packages (from requests-oauthlib>=0.7.0->google-auth-oauthlib<1.1,>=0.5->tensorboard<2.15,>=2.14->tensorflow) (3.2.0)\n",
      "Downloading pymilvus-2.3.1-py3-none-any.whl (168 kB)\n",
      "\u001b[2K   \u001b[90m━━━━━━━━━━━━━━━━━━━━━━━━━━━━━━━━━━━━━━━━\u001b[0m \u001b[32m168.9/168.9 kB\u001b[0m \u001b[31m3.4 MB/s\u001b[0m eta \u001b[36m0:00:00\u001b[0mta \u001b[36m0:00:01\u001b[0m\n",
      "\u001b[?25hDownloading pandas-2.1.1-cp311-cp311-manylinux_2_17_x86_64.manylinux2014_x86_64.whl (12.2 MB)\n",
      "\u001b[2K   \u001b[90m━━━━━━━━━━━━━━━━━━━━━━━━━━━━━━━━━━━━━━━━\u001b[0m \u001b[32m12.2/12.2 MB\u001b[0m \u001b[31m6.8 MB/s\u001b[0m eta \u001b[36m0:00:00\u001b[0m00:01\u001b[0m00:01\u001b[0m\n",
      "\u001b[?25hDownloading ujson-5.8.0-cp311-cp311-manylinux_2_17_x86_64.manylinux2014_x86_64.whl (53 kB)\n",
      "\u001b[2K   \u001b[90m━━━━━━━━━━━━━━━━━━━━━━━━━━━━━━━━━━━━━━━━\u001b[0m \u001b[32m53.9/53.9 kB\u001b[0m \u001b[31m3.0 MB/s\u001b[0m eta \u001b[36m0:00:00\u001b[0m\n",
      "\u001b[?25hDownloading minio-7.1.17-py3-none-any.whl (78 kB)\n",
      "\u001b[2K   \u001b[90m━━━━━━━━━━━━━━━━━━━━━━━━━━━━━━━━━━━━━━━━\u001b[0m \u001b[32m78.3/78.3 kB\u001b[0m \u001b[31m775.9 kB/s\u001b[0m eta \u001b[36m0:00:00\u001b[0m \u001b[36m0:00:01\u001b[0m\n",
      "\u001b[?25hDownloading marshmallow-3.20.1-py3-none-any.whl (49 kB)\n",
      "\u001b[2K   \u001b[90m━━━━━━━━━━━━━━━━━━━━━━━━━━━━━━━━━━━━━━━━\u001b[0m \u001b[32m49.4/49.4 kB\u001b[0m \u001b[31m4.3 MB/s\u001b[0m eta \u001b[36m0:00:00\u001b[0m\n",
      "\u001b[?25hDownloading pytz-2023.3.post1-py2.py3-none-any.whl (502 kB)\n",
      "\u001b[2K   \u001b[90m━━━━━━━━━━━━━━━━━━━━━━━━━━━━━━━━━━━━━━━━\u001b[0m \u001b[32m502.5/502.5 kB\u001b[0m \u001b[31m12.6 MB/s\u001b[0m eta \u001b[36m0:00:00\u001b[0m00:01\u001b[0m\n",
      "\u001b[?25hInstalling collected packages: pytz, ujson, tzdata, python-dotenv, minio, marshmallow, pandas, environs, pymilvus\n",
      "Successfully installed environs-9.5.0 marshmallow-3.20.1 minio-7.1.17 pandas-2.1.1 pymilvus-2.3.1 python-dotenv-1.0.0 pytz-2023.3.post1 tzdata-2023.3 ujson-5.8.0\n",
      "\u001b[33mWARNING: Running pip as the 'root' user can result in broken permissions and conflicting behaviour with the system package manager. It is recommended to use a virtual environment instead: https://pip.pypa.io/warnings/venv\u001b[0m\u001b[33m\n",
      "\u001b[0m\n",
      "\u001b[1m[\u001b[0m\u001b[34;49mnotice\u001b[0m\u001b[1;39;49m]\u001b[0m\u001b[39;49m A new release of pip is available: \u001b[0m\u001b[31;49m23.2.1\u001b[0m\u001b[39;49m -> \u001b[0m\u001b[32;49m23.3\u001b[0m\n",
      "\u001b[1m[\u001b[0m\u001b[34;49mnotice\u001b[0m\u001b[1;39;49m]\u001b[0m\u001b[39;49m To update, run: \u001b[0m\u001b[32;49mpython3 -m pip install --upgrade pip\u001b[0m\n"
     ]
    }
   ],
   "source": [
    "! pip3 install pymilvus tensorflow tensorflow-hub numpy \n",
    "import os\n",
    "import tensorflow as tf\n",
    "import tensorflow_hub as hub\n",
    "import numpy as np\n",
    "import os\n",
    "import re\n",
    "from pymilvus import Collection, FieldSchema, CollectionSchema, DataType, connections, utility"
   ]
  },
  {
   "cell_type": "code",
   "execution_count": 4,
   "id": "e07d77d8-ae70-412d-992e-3b4fe1f94c63",
   "metadata": {},
   "outputs": [
    {
     "name": "stderr",
     "output_type": "stream",
     "text": [
      "2023-10-15 18:48:39.054542: W tensorflow/tsl/framework/cpu_allocator_impl.cc:83] Allocation of 17067520 exceeds 10% of free system memory.\n",
      "2023-10-15 18:48:40.090435: W tensorflow/tsl/framework/cpu_allocator_impl.cc:83] Allocation of 17067520 exceeds 10% of free system memory.\n",
      "2023-10-15 18:48:40.433589: W tensorflow/tsl/framework/cpu_allocator_impl.cc:83] Allocation of 17067520 exceeds 10% of free system memory.\n",
      "2023-10-15 18:48:40.810776: W tensorflow/tsl/framework/cpu_allocator_impl.cc:83] Allocation of 17067520 exceeds 10% of free system memory.\n",
      "2023-10-15 18:48:43.050837: W tensorflow/tsl/framework/cpu_allocator_impl.cc:83] Allocation of 17067520 exceeds 10% of free system memory.\n"
     ]
    }
   ],
   "source": [
    "# Download the model and load the model\n",
    "\n",
    "module_url = \"https://tfhub.dev/google/universal-sentence-encoder-large/5\" #@param [\"https://tfhub.dev/google/universal-sentence-encoder/4\", \"https://tfhub.dev/google/universal-sentence-encoder-large/5\"]\n",
    "model = hub.load(module_url)"
   ]
  },
  {
   "cell_type": "code",
   "execution_count": 5,
   "id": "40facc29-5027-4f5d-8689-7c3960e685a5",
   "metadata": {},
   "outputs": [],
   "source": [
    "# Function to generate embeddings\n",
    "\n",
    "def embeddings(text):\n",
    "    return np.array(model(text)).flatten().tolist()"
   ]
  },
  {
   "cell_type": "code",
   "execution_count": 16,
   "id": "774acf80-65b5-486a-9bbb-d3b4660fddf7",
   "metadata": {},
   "outputs": [],
   "source": [
    "# Dataset available at https://archive.ics.uci.edu/ml/datasets/SMS+Spam+Collection\n",
    "# Download the dataset and extract the files before running this cell\n",
    "# We will create the embeddings from this dataset using the universal-sentence-encoder model\n",
    "\n",
    "file_path = 'sms_collection/SMSSpamCollection'\n",
    "\n",
    "with open(file_path) as file:\n",
    "    lines = [line for line in file]\n",
    "\n",
    "msgs = [x.split('\\t')[1].replace('\\n', '')   for x in lines]\n",
    "embdngs = [embeddings([x]) for x in msgs]\n",
    "indx = list(range(1, len(msgs)+1))\n",
    "\n",
    "data_to_insert = [indx, msgs, embdngs]"
   ]
  },
  {
   "cell_type": "code",
   "execution_count": null,
   "id": "8754c494-79ab-41be-81a5-16e469937fb9",
   "metadata": {},
   "outputs": [],
   "source": []
  },
  {
   "cell_type": "code",
   "execution_count": 17,
   "id": "69b5e55d-8255-4515-9bd1-3695e9eeb1bb",
   "metadata": {},
   "outputs": [],
   "source": [
    "# Connect to milvus database\n",
    "\n",
    "connections.connect(\n",
    "  alias=\"default\",\n",
    "  host='standalone',\n",
    "  port='19530'\n",
    ")"
   ]
  },
  {
   "cell_type": "code",
   "execution_count": 18,
   "id": "e76e8565-d601-4b8c-9508-eabd99561718",
   "metadata": {},
   "outputs": [
    {
     "data": {
      "text/plain": [
       "['Spam_Test']"
      ]
     },
     "execution_count": 18,
     "metadata": {},
     "output_type": "execute_result"
    }
   ],
   "source": [
    "# Field Schema\n",
    "id = FieldSchema(\n",
    "  name=\"id\",\n",
    "  dtype=DataType.INT64,\n",
    "  is_primary=True,\n",
    ")\n",
    "message = FieldSchema(\n",
    "  name=\"message\",\n",
    "  dtype=DataType.VARCHAR,\n",
    "  max_length=6000,\n",
    ")\n",
    "message_vec = FieldSchema(\n",
    "  name=\"message_embeddings\",\n",
    "  dtype=DataType.FLOAT_VECTOR,\n",
    "  dim=512\n",
    ")\n",
    "# collection schema\n",
    "collection_schema = CollectionSchema(\n",
    "  fields=[id, message, message_vec],\n",
    "  description=\"Spam SMS collection\"\n",
    ")\n",
    "# Create collection\n",
    "collection = Collection(\n",
    "    name=\"Spam_Test\",\n",
    "    schema=collection_schema,\n",
    "    using='default')\n",
    "utility.list_collections()"
   ]
  },
  {
   "cell_type": "code",
   "execution_count": 19,
   "id": "0e1a5937-79fc-4df3-a7d1-a6e5e1c3a781",
   "metadata": {},
   "outputs": [],
   "source": [
    "# Insert entities\n",
    "\n",
    "data_insert = collection.insert(data_to_insert)"
   ]
  },
  {
   "cell_type": "code",
   "execution_count": 20,
   "id": "47838f7e-e751-4788-866d-c26a5b65d5df",
   "metadata": {},
   "outputs": [
    {
     "data": {
      "text/plain": [
       "Status(code=0, message=)"
      ]
     },
     "execution_count": 20,
     "metadata": {},
     "output_type": "execute_result"
    }
   ],
   "source": [
    "# Create Index\n",
    "index_params = {\n",
    "  \"metric_type\":\"L2\",\n",
    "  \"index_type\":\"IVF_FLAT\",\n",
    "  \"params\":{\"nlist\":1024},\n",
    "  \"index_name\": \"SMS_IVF_FLAT_TEST\"\n",
    "}\n",
    "\n",
    "# Index on vector field\n",
    "collection.create_index(\n",
    "  field_name=\"message_embeddings\", \n",
    "  index_params=index_params\n",
    ")"
   ]
  },
  {
   "cell_type": "code",
   "execution_count": 24,
   "id": "01df515b-57c0-4918-bfb4-babf59a031bb",
   "metadata": {},
   "outputs": [],
   "source": [
    "# Load the collection\n",
    "\n",
    "collection.load(replica_number=1)"
   ]
  },
  {
   "cell_type": "code",
   "execution_count": 25,
   "id": "6f3aaf9a-feb9-4cc2-a33d-a87a7f0d43e9",
   "metadata": {},
   "outputs": [],
   "source": [
    "# test message\n",
    "#test_message = [\"claim prize\"]\n",
    "test_message = [\"Win a £1000 cash prize or a prize worth £5000\"]\n",
    "test_message_vector = embeddings(test_message)"
   ]
  },
  {
   "cell_type": "code",
   "execution_count": 26,
   "id": "e8b85606-69de-4990-83cb-277e085025c5",
   "metadata": {},
   "outputs": [
    {
     "name": "stdout",
     "output_type": "stream",
     "text": [
      "id: 4048, distance: 0.0, entity: {'message': 'Win a £1000 cash prize or a prize worth £5000'}\n",
      "id: 2221, distance: 0.7700581550598145, entity: {'message': 'You have WON a guaranteed £1000 cash or a £2000 prize. To claim yr prize call our customer service representative on 08714712379 between 10am-7pm Cost 10p'}\n",
      "id: 5013, distance: 0.7854383587837219, entity: {'message': 'You have WON a guaranteed £1000 cash or a £2000 prize. To claim yr prize call our customer service representative on 08714712412 between 10am-7pm Cost 10p'}\n"
     ]
    }
   ],
   "source": [
    "## Vector Similarity Search\n",
    "search_params = {\"metric_type\": \"L2\", \"params\": {\"nprobe\": 64}}\n",
    "\n",
    "results = collection.search(\n",
    "\tdata=[test_message_vector], \n",
    "\tanns_field=\"message_embeddings\", \n",
    "\tparam=search_params,\n",
    "\tlimit=5, \n",
    "\texpr=None,\n",
    "\toutput_fields=['message']\n",
    ")\n",
    "\n",
    "for result in results[0]:\n",
    "    print (result)"
   ]
  },
  {
   "cell_type": "code",
   "execution_count": null,
   "id": "a83f281c-b7c7-4e72-9a49-bbf95edee0c6",
   "metadata": {},
   "outputs": [],
   "source": []
  }
 ],
 "metadata": {
  "kernelspec": {
   "display_name": "Python 3 (ipykernel)",
   "language": "python",
   "name": "python3"
  },
  "language_info": {
   "codemirror_mode": {
    "name": "ipython",
    "version": 3
   },
   "file_extension": ".py",
   "mimetype": "text/x-python",
   "name": "python",
   "nbconvert_exporter": "python",
   "pygments_lexer": "ipython3",
   "version": "3.11.0rc1"
  }
 },
 "nbformat": 4,
 "nbformat_minor": 5
}
